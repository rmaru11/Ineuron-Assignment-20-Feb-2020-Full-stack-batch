{
 "cells": [
  {
   "cell_type": "markdown",
   "metadata": {},
   "source": [
    "    # Python basic Assignment 1"
   ]
  },
  {
   "cell_type": "markdown",
   "metadata": {},
   "source": [
    "1. In the below elements which of them are values or an expression? eg:- values can be integer or string and expressions will be mathematical operators.\n",
    "* \n",
    "'hello'\n",
    "-87.8\n",
    "- \n",
    "/ \n",
    "+\n",
    "\n",
    "6 \n",
    "solution 1- 'hello',-87.8,6 are values and *,+,/ are expressions\n"
   ]
  },
  {
   "cell_type": "markdown",
   "metadata": {},
   "source": [
    "2. What is the difference between string and variable?\n",
    "\n",
    "solution 2 - variable is basically a placeholder where you can store any data type and access it through that variable name but strings is special type of data type which consists of collection of characters strings is immutable in python.\n"
   ]
  },
  {
   "cell_type": "markdown",
   "metadata": {},
   "source": [
    "3. Describe three different data types.\n",
    "\n",
    "solution 3 - there are many different data types in python like boolean,string,integer,complex number,floating point number.\n",
    "\n",
    "Boolean - it is type of flag that consists of either True or False value\n",
    "String - It consists of a collection of character it is immutable in python e.g 'Rohan','viral'\n",
    "Intger - It consists of integer type of number e.g - 5,6\n",
    "Float - It consists  of float type of number eg 5.0,6.3\n",
    "Complex - It consists of Complex type of number ef 1+5j\n"
   ]
  },
  {
   "cell_type": "markdown",
   "metadata": {},
   "source": [
    "4. What is an expression made up of? What do all expressions do?\n",
    "\n",
    "solution 4 - expression is made up of operators variables and data like x=5+3\n",
    "here x is variable and = is operator and 5 and 3 are integer data type."
   ]
  },
  {
   "cell_type": "markdown",
   "metadata": {},
   "source": [
    "5. This assignment statements, like spam = 10. What is the difference between an\n",
    "expression and a statement?\n",
    "solution 5- Statements represent an action or command e.g print statements, assignment statements. print 'hello', x = 1. Expression is a combination of variables, operations and values that yields a result value."
   ]
  },
  {
   "cell_type": "markdown",
   "metadata": {},
   "source": [
    "6. After running the following code, what does the variable bacon contain?\n",
    "bacon = 22\n",
    "bacon + 1\n",
    "solution 6 - bacon =22\n"
   ]
  },
  {
   "cell_type": "markdown",
   "metadata": {},
   "source": [
    "7. What should the values of the following two terms be?\n",
    "'spam' + 'spamspam'\n",
    "'spam' * 3\n",
    "solution 7 - spamspamspam\n",
    "spamspamspam\n"
   ]
  },
  {
   "cell_type": "markdown",
   "metadata": {},
   "source": [
    "8. Why is eggs a valid variable name while 100 is invalid?\n",
    "\n",
    "solution 8 - eggs is a valid variable name as it starts with a alphabet but 100 is invalid as it starts with a number value at first place which is not allowed in python"
   ]
  },
  {
   "cell_type": "markdown",
   "metadata": {},
   "source": [
    "9. What three functions can be used to get the integer, floating-point number, or string\n",
    "version of a value?\n",
    "solution 9 - int,float,str with any value will typecast that values to respective data type"
   ]
  },
  {
   "cell_type": "markdown",
   "metadata": {},
   "source": [
    "10. Why does this expression cause an error? How can you fix it?\n",
    "'I have eaten ' + 99 + ' burritos.'\n",
    "solution 10 - you can not concatenate two different type of data to fix this error you need to convert 99 into str by using str(99) or '99' so that all the values will be in string data type."
   ]
  }
 ],
 "metadata": {
  "kernelspec": {
   "display_name": "Python 3",
   "language": "python",
   "name": "python3"
  },
  "language_info": {
   "codemirror_mode": {
    "name": "ipython",
    "version": 3
   },
   "file_extension": ".py",
   "mimetype": "text/x-python",
   "name": "python",
   "nbconvert_exporter": "python",
   "pygments_lexer": "ipython3",
   "version": "3.7.6"
  }
 },
 "nbformat": 4,
 "nbformat_minor": 4
}
